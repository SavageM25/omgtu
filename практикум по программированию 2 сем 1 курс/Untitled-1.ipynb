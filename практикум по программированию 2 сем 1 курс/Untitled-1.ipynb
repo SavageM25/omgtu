{
 "cells": [
  {
   "cell_type": "code",
   "execution_count": 1,
   "metadata": {
    "dotnet_interactive": {
     "language": "csharp"
    },
    "polyglot_notebook": {
     "kernelName": "csharp"
    }
   },
   "outputs": [],
   "source": [
    "class Tropechiya\n",
    "{\n",
    "    public static double Solve(Func<double, double> f, double a, double b, double dx)\n",
    "    {\n",
    "\n",
    "\n",
    "        double epsilon = 10E-8;\n",
    "        if (dx <= epsilon)\n",
    "        {\n",
    "            throw new ArgumentException(\"Шаг слишком мал.\");\n",
    "        }\n",
    "\n",
    "        if (a - b > epsilon)\n",
    "        {\n",
    "            throw new ArgumentException(\"Начальная точка должна быть меньше конечной.\");\n",
    "        }\n",
    "\n",
    "        double integral = 0;\n",
    "        if (Double.IsNormal(a)||Double.IsNormal(b)||Double.IsNormal(dx))\n",
    "        {\n",
    "            int steps = (int)Math.Ceiling((b - a) / dx);\n",
    "            for (int i = 0; i < steps; i++)\n",
    "            {\n",
    "                double x = a + i * dx;\n",
    "                integral += 0.5 * dx * (f(x) + f(x + dx));\n",
    "            }\n",
    "        }\n",
    "        return integral;\n",
    "    }\n",
    "}\n"
   ]
  },
  {
   "cell_type": "code",
   "execution_count": 3,
   "metadata": {
    "dotnet_interactive": {
     "language": "csharp"
    },
    "polyglot_notebook": {
     "kernelName": "csharp"
    }
   },
   "outputs": [
    {
     "name": "stdout",
     "output_type": "stream",
     "text": [
      "Результат вычисления интеграла: 35,99\r\n"
     ]
    }
   ],
   "source": [
    "\n",
    "Func<double, double> f = (double x) => -x * x + 9;\n",
    "\n",
    "Console.WriteLine(\"Результат вычисления интеграла: \" + Tropechiya.Solve(f, -3, 3, 0.1));\n",
    "\n"
   ]
  }
 ],
 "metadata": {
  "kernelspec": {
   "display_name": ".NET (C#)",
   "language": "C#",
   "name": ".net-csharp"
  },
  "language_info": {
   "name": "polyglot-notebook"
  },
  "polyglot_notebook": {
   "kernelInfo": {
    "defaultKernelName": "csharp",
    "items": [
     {
      "aliases": [],
      "name": "csharp"
     }
    ]
   }
  }
 },
 "nbformat": 4,
 "nbformat_minor": 2
}
