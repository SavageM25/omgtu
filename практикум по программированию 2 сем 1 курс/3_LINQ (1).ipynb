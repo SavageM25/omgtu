{
 "cells": [
  {
   "cell_type": "markdown",
   "metadata": {},
   "source": [
    "# LINQ\n",
    "\n",
    "Цель:\n",
    "1. Научиться выполнять операции над наборами данных с помощью LINQ.\n",
    "2. Научиться работать с форматом JSON.\n",
    "\n",
    "Зачем:\n",
    "1. Обработка данных в функциональном стиле позволяет быстро и эффективно получать решения поставленных задач.\n",
    "2. Это самый современный подход при работе со структурами данных, используется на всех платформах и языках, в машинном обучении. "
   ]
  },
  {
   "cell_type": "markdown",
   "metadata": {},
   "source": [
    "Примеры из [статьи](https://habr.com/ru/companies/otus/articles/723438/): "
   ]
  },
  {
   "cell_type": "code",
   "execution_count": 13,
   "metadata": {
    "dotnet_interactive": {
     "language": "csharp"
    },
    "polyglot_notebook": {
     "kernelName": "csharp"
    }
   },
   "outputs": [],
   "source": [
    "class Product\n",
    "{\n",
    "    public int Id { get; set; }\n",
    "    public string Name { get; set; }\n",
    "    public decimal Price { get; set; }\n",
    "}\n",
    "\n",
    "List<Product> products = new List<Product>\n",
    "{\n",
    "    new Product { Id = 1, Name = \"Ноутбук\", Price = 1200 },\n",
    "    new Product { Id = 2, Name = \"Клавиатура\", Price = 80 },\n",
    "    new Product { Id = 3, Name = \"Мышь\", Price = 30 },\n",
    "    new Product { Id = 4, Name = \"Монитор\", Price = 300 }\n",
    "};"
   ]
  },
  {
   "cell_type": "code",
   "execution_count": 14,
   "metadata": {
    "dotnet_interactive": {
     "language": "csharp"
    },
    "polyglot_notebook": {
     "kernelName": "csharp"
    }
   },
   "outputs": [
    {
     "data": {
      "text/html": [
       "<table><thead><tr><th><i>index</i></th><th>value</th></tr></thead><tbody><tr><td>0</td><td><details class=\"dni-treeview\"><summary><span class=\"dni-code-hint\"><code>Submission#12+Product</code></span></summary><div><table><thead><tr></tr></thead><tbody><tr><td>Id</td><td><div class=\"dni-plaintext\"><pre>2</pre></div></td></tr><tr><td>Name</td><td><div class=\"dni-plaintext\"><pre>Клавиатура</pre></div></td></tr><tr><td>Price</td><td><div class=\"dni-plaintext\"><pre>80</pre></div></td></tr></tbody></table></div></details></td></tr><tr><td>1</td><td><details class=\"dni-treeview\"><summary><span class=\"dni-code-hint\"><code>Submission#12+Product</code></span></summary><div><table><thead><tr></tr></thead><tbody><tr><td>Id</td><td><div class=\"dni-plaintext\"><pre>3</pre></div></td></tr><tr><td>Name</td><td><div class=\"dni-plaintext\"><pre>Мышь</pre></div></td></tr><tr><td>Price</td><td><div class=\"dni-plaintext\"><pre>30</pre></div></td></tr></tbody></table></div></details></td></tr></tbody></table><style>\r\n",
       ".dni-code-hint {\r\n",
       "    font-style: italic;\r\n",
       "    overflow: hidden;\r\n",
       "    white-space: nowrap;\r\n",
       "}\r\n",
       ".dni-treeview {\r\n",
       "    white-space: nowrap;\r\n",
       "}\r\n",
       ".dni-treeview td {\r\n",
       "    vertical-align: top;\r\n",
       "    text-align: start;\r\n",
       "}\r\n",
       "details.dni-treeview {\r\n",
       "    padding-left: 1em;\r\n",
       "}\r\n",
       "table td {\r\n",
       "    text-align: start;\r\n",
       "}\r\n",
       "table tr { \r\n",
       "    vertical-align: top; \r\n",
       "    margin: 0em 0px;\r\n",
       "}\r\n",
       "table tr td pre \r\n",
       "{ \r\n",
       "    vertical-align: top !important; \r\n",
       "    margin: 0em 0px !important;\r\n",
       "} \r\n",
       "table th {\r\n",
       "    text-align: start;\r\n",
       "}\r\n",
       "</style>"
      ]
     },
     "metadata": {},
     "output_type": "display_data"
    }
   ],
   "source": [
    "// Можно просто выполнить:\n",
    "from product in products\n",
    "where product.Price < 100\n",
    "select product"
   ]
  },
  {
   "cell_type": "code",
   "execution_count": 15,
   "metadata": {
    "dotnet_interactive": {
     "language": "csharp"
    },
    "polyglot_notebook": {
     "kernelName": "csharp"
    }
   },
   "outputs": [
    {
     "data": {
      "text/html": [
       "<table><thead><tr><th><i>index</i></th><th>value</th></tr></thead><tbody><tr><td>0</td><td><details class=\"dni-treeview\"><summary><span class=\"dni-code-hint\"><code>Submission#12+Product</code></span></summary><div><table><thead><tr></tr></thead><tbody><tr><td>Id</td><td><div class=\"dni-plaintext\"><pre>2</pre></div></td></tr><tr><td>Name</td><td><div class=\"dni-plaintext\"><pre>Клавиатура</pre></div></td></tr><tr><td>Price</td><td><div class=\"dni-plaintext\"><pre>80</pre></div></td></tr></tbody></table></div></details></td></tr><tr><td>1</td><td><details class=\"dni-treeview\"><summary><span class=\"dni-code-hint\"><code>Submission#12+Product</code></span></summary><div><table><thead><tr></tr></thead><tbody><tr><td>Id</td><td><div class=\"dni-plaintext\"><pre>3</pre></div></td></tr><tr><td>Name</td><td><div class=\"dni-plaintext\"><pre>Мышь</pre></div></td></tr><tr><td>Price</td><td><div class=\"dni-plaintext\"><pre>30</pre></div></td></tr></tbody></table></div></details></td></tr></tbody></table><style>\r\n",
       ".dni-code-hint {\r\n",
       "    font-style: italic;\r\n",
       "    overflow: hidden;\r\n",
       "    white-space: nowrap;\r\n",
       "}\r\n",
       ".dni-treeview {\r\n",
       "    white-space: nowrap;\r\n",
       "}\r\n",
       ".dni-treeview td {\r\n",
       "    vertical-align: top;\r\n",
       "    text-align: start;\r\n",
       "}\r\n",
       "details.dni-treeview {\r\n",
       "    padding-left: 1em;\r\n",
       "}\r\n",
       "table td {\r\n",
       "    text-align: start;\r\n",
       "}\r\n",
       "table tr { \r\n",
       "    vertical-align: top; \r\n",
       "    margin: 0em 0px;\r\n",
       "}\r\n",
       "table tr td pre \r\n",
       "{ \r\n",
       "    vertical-align: top !important; \r\n",
       "    margin: 0em 0px !important;\r\n",
       "} \r\n",
       "table th {\r\n",
       "    text-align: start;\r\n",
       "}\r\n",
       "</style>"
      ]
     },
     "metadata": {},
     "output_type": "display_data"
    }
   ],
   "source": [
    "// Можно сохранить результат в переменную:\n",
    "var cheapProducts = from product in products\n",
    "                    where product.Price < 100\n",
    "                    select product;\n",
    "\n",
    "cheapProducts"
   ]
  },
  {
   "cell_type": "code",
   "execution_count": 16,
   "metadata": {
    "dotnet_interactive": {
     "language": "csharp"
    },
    "polyglot_notebook": {
     "kernelName": "csharp"
    }
   },
   "outputs": [
    {
     "data": {
      "text/html": [
       "<table><thead><tr><th><i>index</i></th><th>value</th></tr></thead><tbody><tr><td>0</td><td><details class=\"dni-treeview\"><summary><span class=\"dni-code-hint\"><code>Submission#12+Product</code></span></summary><div><table><thead><tr></tr></thead><tbody><tr><td>Id</td><td><div class=\"dni-plaintext\"><pre>2</pre></div></td></tr><tr><td>Name</td><td><div class=\"dni-plaintext\"><pre>Клавиатура</pre></div></td></tr><tr><td>Price</td><td><div class=\"dni-plaintext\"><pre>80</pre></div></td></tr></tbody></table></div></details></td></tr><tr><td>1</td><td><details class=\"dni-treeview\"><summary><span class=\"dni-code-hint\"><code>Submission#12+Product</code></span></summary><div><table><thead><tr></tr></thead><tbody><tr><td>Id</td><td><div class=\"dni-plaintext\"><pre>3</pre></div></td></tr><tr><td>Name</td><td><div class=\"dni-plaintext\"><pre>Мышь</pre></div></td></tr><tr><td>Price</td><td><div class=\"dni-plaintext\"><pre>30</pre></div></td></tr></tbody></table></div></details></td></tr></tbody></table><style>\r\n",
       ".dni-code-hint {\r\n",
       "    font-style: italic;\r\n",
       "    overflow: hidden;\r\n",
       "    white-space: nowrap;\r\n",
       "}\r\n",
       ".dni-treeview {\r\n",
       "    white-space: nowrap;\r\n",
       "}\r\n",
       ".dni-treeview td {\r\n",
       "    vertical-align: top;\r\n",
       "    text-align: start;\r\n",
       "}\r\n",
       "details.dni-treeview {\r\n",
       "    padding-left: 1em;\r\n",
       "}\r\n",
       "table td {\r\n",
       "    text-align: start;\r\n",
       "}\r\n",
       "table tr { \r\n",
       "    vertical-align: top; \r\n",
       "    margin: 0em 0px;\r\n",
       "}\r\n",
       "table tr td pre \r\n",
       "{ \r\n",
       "    vertical-align: top !important; \r\n",
       "    margin: 0em 0px !important;\r\n",
       "} \r\n",
       "table th {\r\n",
       "    text-align: start;\r\n",
       "}\r\n",
       "</style>"
      ]
     },
     "metadata": {},
     "output_type": "display_data"
    }
   ],
   "source": [
    "// Синтаксис методов\n",
    "\n",
    "products.Where(p => p.Price < 100)"
   ]
  },
  {
   "cell_type": "markdown",
   "metadata": {},
   "source": [
    "# Задание 3\n",
    "\n",
    "## Часть 1\n",
    "В задании 1 заменить императивные элементы на LINQ\n"
   ]
  },
  {
   "cell_type": "markdown",
   "metadata": {},
   "source": [
    "## Часть 2\n",
    "1. Изучите руководство по LINQ https://docs.microsoft.com/ru-ru/dotnet/csharp/linq/\n",
    "Не только Обзор, который открывается по ссылке, но и весь раздел LINQ\n",
    "2. Обязательно нужно ознакомиться с функциями-расширениями https://docs.microsoft.com/ru-ru/dotnet/csharp/programming-guide/classes-and-structs/extension-methods. Весь LINQ построен на функциях-расширениях.\n",
    "3. Изучите статью по JSON: https://habr.com/ru/articles/554274/\n",
    "4. Добавить зависимость Newtonsoft.Json \n",
    "    1. https://learn.microsoft.com/ru-ru/dotnet/core/tools/dotnet-add-package\n",
    "    2. https://github.com/dotnet/interactive/blob/main/docs/magic-commands.md#c-kernel\n",
    "    3. https://www.nuget.org/packages/Newtonsoft.Json/\n",
    "5. Ознакомиться с примерами работы с библиотекой Newtonsoft.Json https://www.newtonsoft.com/json/help/html/FromObject.htm#\n",
    "\n",
    "6. Предположим, что экзаменационная ведомость содержит следующие сведения о студентах:\n",
    "    1. Имя\n",
    "    2. Группа\n",
    "    3. Дисциплина\n",
    "    4. Оценка\n",
    "\n",
    "\n",
    "| Name  | Group  |  Discipline | Mark  |\n",
    "|---|---|---|---|\n",
    "| Cadet1 | SC-991 | Programming | 5 |\n",
    "| Cadet2 | SC-991 | Programming | 3 |\n",
    "| Cadet1 | SC-991 | Algebra     | 5 |\n",
    "| Cadet2 | SC-991 | Algebra     | 4 |\n",
    "| Cadet3 | SC-992 | Programming | 4 |\n",
    "| Cadet4 | SC-992 | Programming | 5 |\n",
    "| Cadet3 | SC-992 | Algebra     | 3 |\n",
    "| Cadet4 | SC-992 | Algebra     | 5 |\n",
    "\n",
    "\n",
    "7. Решить следующие задачи:\n",
    "    1. Определить студента/студентов с максимальным средним баллом. (\"taskName\": \"GetStudentsWithHighestGPA\")\n",
    "    Пример: https://pastes.io/qxur8yardo\n",
    "\n",
    "    2. Вычислить средний балл по каждому предмету. (\"taskName\": \"CalculateGPAByDiscipline\")\n",
    "    Пример: https://pastes.io/zmspfvpzzx\n",
    "\n",
    "    3. По каждому предмету определить группу с лучшим средним баллом. (\"taskName\": \"GetBestGroupsByDiscipline\")\n",
    "    Пример: https://pastes.io/z9txezxfsc\n",
    "\n",
    "\n",
    "8. На входе два аргумента:\n",
    "    - Путь к файлу с JSON’ом в текстовом виде, откуда нужно считать тип задачи и данные (входной файл)\n",
    "    - Путь к файлу, куда нужно записать результат (выходной файл)\n",
    "    - Важно! Формат входного и выходного файла можно увидеть в примерах."
   ]
  },
  {
   "cell_type": "code",
   "execution_count": 17,
   "metadata": {
    "dotnet_interactive": {
     "language": "csharp"
    },
    "polyglot_notebook": {
     "kernelName": "csharp"
    }
   },
   "outputs": [
    {
     "data": {
      "text/html": [
       "<div><div></div><div></div><div><strong>Installed Packages</strong><ul><li><span>Newtonsoft.Json, 13.0.3</span></li></ul></div></div>"
      ]
     },
     "metadata": {},
     "output_type": "display_data"
    }
   ],
   "source": [
    "#r \"nuget: Newtonsoft.Json, 13.0.3\""
   ]
  },
  {
   "cell_type": "code",
   "execution_count": 18,
   "metadata": {
    "dotnet_interactive": {
     "language": "csharp"
    },
    "polyglot_notebook": {
     "kernelName": "csharp"
    }
   },
   "outputs": [],
   "source": [
    "class Tropechiya\n",
    "{\n",
    "    public static double Solve(Func<double, double> f, double a, double b, double dx)\n",
    "    {\n",
    "        double epsilon = 10E-8;\n",
    "        if (dx <= epsilon)\n",
    "        {\n",
    "            throw new ArgumentException(\"Шаг слишком мал.\");\n",
    "        }\n",
    "\n",
    "        if (a - b > epsilon)\n",
    "        {\n",
    "            throw new ArgumentException(\"Начальная точка должна быть меньше конечной.\");\n",
    "        }\n",
    "\n",
    "        if (Double.IsNormal(a) || Double.IsNormal(b) || Double.IsNormal(dx))\n",
    "        {\n",
    "            int steps = (int)Math.Ceiling((b - a) / dx);\n",
    "            double integral = Enumerable.Range(0, steps).Select(i => a + i * dx).Select(x => 0.5 * dx * (f(x) + f(x + dx))).Sum();\n",
    "            return integral;\n",
    "        }\n",
    "        return 0;\n",
    "    }\n",
    "}"
   ]
  },
  {
   "cell_type": "code",
   "execution_count": 19,
   "metadata": {
    "dotnet_interactive": {
     "language": "csharp"
    },
    "polyglot_notebook": {
     "kernelName": "csharp"
    }
   },
   "outputs": [
    {
     "name": "stdout",
     "output_type": "stream",
     "text": [
      "Результат вычисления интеграла: 35,99\r\n"
     ]
    }
   ],
   "source": [
    "Func<double, double> f = (double x) => -x * x + 9;\n",
    "\n",
    "Console.WriteLine(\"Результат вычисления интеграла: \" + Tropechiya.Solve(f, -3, 3, 0.1));"
   ]
  },
  {
   "cell_type": "code",
   "execution_count": 20,
   "metadata": {
    "dotnet_interactive": {
     "language": "csharp"
    },
    "polyglot_notebook": {
     "kernelName": "csharp"
    }
   },
   "outputs": [],
   "source": [
    "public class Task\n",
    "{\n",
    "    public string TaskName { get; set; }\n",
    "    public List<Student> Data { get; set; }\n",
    "}\n",
    "\n",
    "public class Student\n",
    "{\n",
    "    public string Name { get; set; }\n",
    "    public string Group { get; set; }\n",
    "    public string Discipline { get; set; }\n",
    "    public double Mark { get; set; }\n",
    "}"
   ]
  },
  {
   "cell_type": "code",
   "execution_count": 21,
   "metadata": {
    "dotnet_interactive": {
     "language": "csharp"
    },
    "polyglot_notebook": {
     "kernelName": "csharp"
    }
   },
   "outputs": [],
   "source": [
    "private static object GetStudentsWithHighestGPA(List<Student> students)\n",
    "    {\n",
    "        var avgGpas = students.GroupBy(s => s.Name).Select(g => new { Name = g.Key, GPA = g.Average(s => s.Mark) }).ToList();\n",
    "        \n",
    "        var maxGpa = avgGpas.Max(g => g.GPA);\n",
    "        \n",
    "        return avgGpas.Where(g => g.GPA == maxGpa).Select(g => new { Cadet = g.Name, GPA = g.GPA }).ToList();\n",
    "    }   "
   ]
  },
  {
   "cell_type": "code",
   "execution_count": 22,
   "metadata": {
    "dotnet_interactive": {
     "language": "csharp"
    },
    "polyglot_notebook": {
     "kernelName": "csharp"
    }
   },
   "outputs": [],
   "source": [
    "private static object CalculateGPAByDiscipline(List<Student> students)\n",
    "    {\n",
    "        return students.GroupBy(s => s.Discipline).Select(g => new { Discipline = g.Key, AverageGPA = g.Average(s => s.Mark) }).ToList();\n",
    "    }"
   ]
  },
  {
   "cell_type": "code",
   "execution_count": 23,
   "metadata": {
    "dotnet_interactive": {
     "language": "csharp"
    },
    "polyglot_notebook": {
     "kernelName": "csharp"
    }
   },
   "outputs": [],
   "source": [
    "private static object GetBestGroupsByDiscipline(List<Student> students)\n",
    "    {\n",
    "        return students.GroupBy(s => new { s.Discipline, s.Group }).Select(g => new { g.Key.Discipline, g.Key.Group, GPA = g.Average(s => s.Mark) })\n",
    "        .GroupBy(g => g.Discipline).Select(g => g.OrderByDescending(s => s.GPA).First()).Select(g => new { Discipline = g.Discipline, Group = g.Group, GPA = g.GPA })\n",
    "        .ToList();\n",
    "    }   "
   ]
  },
  {
   "cell_type": "code",
   "execution_count": 26,
   "metadata": {
    "dotnet_interactive": {
     "language": "csharp"
    },
    "polyglot_notebook": {
     "kernelName": "csharp"
    }
   },
   "outputs": [],
   "source": [
    "using System;\n",
    "using System.IO;\n",
    "using Newtonsoft.Json;\n",
    "\n",
    "string JsonFile1 = @\"C:\\Users\\Andrey\\Downloads\\Telegram Desktop\\GetStudentsWithHighestGPA.json\";\n",
    "string JsonFile2 = @\"C:\\Users\\Andrey\\Downloads\\Telegram Desktop\\CalculateGPAByDiscipline.json\";\n",
    "string JsonFile3 = @\"C:\\Users\\Andrey\\Downloads\\Telegram Desktop\\GetBestGroupsByDiscipline.json\";\n",
    "string answer = @\"C:\\Users\\Andrey\\Downloads\\Telegram Desktop\\answer.json\";\n",
    "\n",
    "string inputFilePath = JsonFile3; \n",
    "string outputFilePath = answer;\n",
    "\n",
    "string jsonContent = File.ReadAllText(inputFilePath);\n",
    "Task task = JsonConvert.DeserializeObject<Task>(jsonContent);\n",
    "object result = null;\n",
    "\n",
    "switch (task.TaskName)\n",
    "{\n",
    "    case \"GetStudentsWithHighestGPA\":\n",
    "    result = GetStudentsWithHighestGPA(task.Data);\n",
    "    break;\n",
    "    case \"CalculateGPAByDiscipline\":\n",
    "    result = CalculateGPAByDiscipline(task.Data);\n",
    "    break;\n",
    "    case \"GetBestGroupsByDiscipline\":\n",
    "    result = GetBestGroupsByDiscipline(task.Data);\n",
    "    break;\n",
    "    default:\n",
    "    throw new InvalidOperationException(\"Неизвестный тип задачи.\");\n",
    "    }\n",
    "\n",
    "    string outputJson = JsonConvert.SerializeObject(result, Formatting.Indented);\n",
    "    File.WriteAllText(outputFilePath, outputJson);"
   ]
  }
 ],
 "metadata": {
  "kernelspec": {
   "display_name": ".NET (C#)",
   "language": "C#",
   "name": ".net-csharp"
  },
  "language_info": {
   "name": "polyglot-notebook"
  },
  "polyglot_notebook": {
   "kernelInfo": {
    "defaultKernelName": "csharp",
    "items": [
     {
      "aliases": [],
      "languageName": "csharp",
      "name": "csharp"
     }
    ]
   }
  }
 },
 "nbformat": 4,
 "nbformat_minor": 2
}
