{
 "cells": [
  {
   "cell_type": "code",
   "execution_count": 7,
   "metadata": {
    "dotnet_interactive": {
     "language": "csharp"
    },
    "polyglot_notebook": {
     "kernelName": "csharp"
    },
    "vscode": {
     "languageId": "polyglot-notebook"
    }
   },
   "outputs": [],
   "source": [
    "using System;\n",
    "\n",
    "public class Function\n",
    "{\n",
    "    public static double[] Decision(double a, double b, double c)\n",
    "    {\n",
    "        double discriminant = b * b - 4 * a * c;\n",
    "        double[] answers = new double[2];\n",
    "\n",
    "        // Дискриминант > 0 \n",
    "        if (discriminant > 0)\n",
    "        {\n",
    "            answers[0] = (-b + Math.Sqrt(discriminant)) / (2 * a);\n",
    "            answers[1] = (-b - Math.Sqrt(discriminant)) / (2 * a);\n",
    "        }\n",
    "\n",
    "        // Дискриминант = 0 \n",
    "        else if (discriminant == 0)\n",
    "        {\n",
    "            answers[0] = -b / (2 * a);\n",
    "            answers[1] = answers[0];\n",
    "        }\n",
    "\n",
    "        return answers;\n",
    "    }\n",
    "}\n"
   ]
  },
  {
   "cell_type": "code",
   "execution_count": 8,
   "metadata": {
    "dotnet_interactive": {
     "language": "csharp"
    },
    "polyglot_notebook": {
     "kernelName": "csharp"
    },
    "vscode": {
     "languageId": "polyglot-notebook"
    }
   },
   "outputs": [
    {
     "name": "stdout",
     "output_type": "stream",
     "text": [
      "Введите коэффициенты (a b c):Корни уравнения:\n",
      "x1 = 2,50060111284256E-07\n",
      "x2 = -4000000,00000025\n"
     ]
    },
    {
     "data": {
      "text/html": [
       "<div class=\"dni-plaintext\"><pre>&lt;null&gt;</pre></div><style>\r\n",
       ".dni-code-hint {\r\n",
       "    font-style: italic;\r\n",
       "    overflow: hidden;\r\n",
       "    white-space: nowrap;\r\n",
       "}\r\n",
       ".dni-treeview {\r\n",
       "    white-space: nowrap;\r\n",
       "}\r\n",
       ".dni-treeview td {\r\n",
       "    vertical-align: top;\r\n",
       "    text-align: start;\r\n",
       "}\r\n",
       "details.dni-treeview {\r\n",
       "    padding-left: 1em;\r\n",
       "}\r\n",
       "table td {\r\n",
       "    text-align: start;\r\n",
       "}\r\n",
       "table tr { \r\n",
       "    vertical-align: top; \r\n",
       "    margin: 0em 0px;\r\n",
       "}\r\n",
       "table tr td pre \r\n",
       "{ \r\n",
       "    vertical-align: top !important; \r\n",
       "    margin: 0em 0px !important;\r\n",
       "} \r\n",
       "table th {\r\n",
       "    text-align: start;\r\n",
       "}\r\n",
       "</style>"
      ]
     },
     "metadata": {},
     "output_type": "display_data"
    }
   ],
   "source": [
    "\n",
    "        Console.Write(\"Введите коэффициенты (a b c):\");\n",
    "        string input = (\"1 4000000 -1\");\n",
    "        string[] coefficients = input.Split(\" \");\n",
    "\n",
    "        if (coefficients.Length != 3)\n",
    "        {\n",
    "            Console.WriteLine(\"Ошибка: Неверное количество коэффициентов.\");\n",
    "            return;\n",
    "        }\n",
    "\n",
    "        try\n",
    "        {\n",
    "            double a = Convert.ToDouble(coefficients[0]);\n",
    "            double b = Convert.ToDouble(coefficients[1]);\n",
    "            double c = Convert.ToDouble(coefficients[2]);\n",
    "\n",
    "            double[] roots = Function.Decision(a, b, c);\n",
    "\n",
    "            if (double.IsNaN(roots[0]) || double.IsNaN(roots[1]))\n",
    "            {\n",
    "                Console.WriteLine(\"Действительных корней нет\");\n",
    "            }\n",
    "            else\n",
    "            {\n",
    "                Console.WriteLine(\"Корни уравнения:\");\n",
    "                Console.WriteLine(\"x1 = \" + roots[0]);\n",
    "                Console.WriteLine(\"x2 = \" + roots[1]);\n",
    "            }\n",
    "        }\n",
    "        catch (FormatException)\n",
    "        {\n",
    "            Console.WriteLine(\"Ошибка: Неверный формат ввода.\");\n",
    "        }\n"
   ]
  },
  {
   "cell_type": "code",
   "execution_count": 9,
   "metadata": {
    "dotnet_interactive": {
     "language": "csharp"
    },
    "polyglot_notebook": {
     "kernelName": "csharp"
    },
    "vscode": {
     "languageId": "polyglot-notebook"
    }
   },
   "outputs": [],
   "source": [
    "using System;\n",
    "\n",
    "\n",
    "public class Function_Read\n",
    "{\n",
    "    public static string ReadLine()\n",
    "    {\n",
    "        string input = Console.ReadLine();\n",
    "        return input;\n",
    "    }\n",
    "}\n"
   ]
  }
 ],
 "metadata": {
  "kernelspec": {
   "display_name": ".NET (C#)",
   "language": "C#",
   "name": ".net-csharp"
  },
  "language_info": {
   "name": "csharp"
  },
  "polyglot_notebook": {
   "kernelInfo": {
    "defaultKernelName": "csharp",
    "items": [
     {
      "aliases": [],
      "name": "csharp"
     }
    ]
   }
  }
 },
 "nbformat": 4,
 "nbformat_minor": 2
}
