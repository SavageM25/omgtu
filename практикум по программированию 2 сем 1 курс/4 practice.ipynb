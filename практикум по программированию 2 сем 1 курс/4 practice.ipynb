{
 "cells": [
  {
   "cell_type": "code",
   "execution_count": 32,
   "metadata": {
    "dotnet_interactive": {
     "language": "csharp"
    },
    "polyglot_notebook": {
     "kernelName": "csharp"
    }
   },
   "outputs": [
    {
     "name": "stdout",
     "output_type": "stream",
     "text": [
      "Тип: Submission#33\n",
      "Методы:\n",
      "Имя метода: <Initialize>\n",
      "Тип возвращаемого значения: Task`1\n",
      "Параметры:\n",
      "Имя метода: <Factory>\n",
      "Тип возвращаемого значения: Task`1\n",
      "Параметры:\n",
      "Имя: submissionArray, Тип: Object[]\n",
      "Имя метода: GetType\n",
      "Тип возвращаемого значения: Type\n",
      "Параметры:\n",
      "Имя метода: ToString\n",
      "Тип возвращаемого значения: String\n",
      "Параметры:\n",
      "Имя метода: Equals\n",
      "Тип возвращаемого значения: Boolean\n",
      "Параметры:\n",
      "Имя: obj, Тип: Object\n",
      "Имя метода: GetHashCode\n",
      "Тип возвращаемого значения: Int32\n",
      "Параметры:\n",
      "\n",
      "Тип: <<Initialize>>d__0\n",
      "Методы:\n",
      "Имя метода: GetType\n",
      "Тип возвращаемого значения: Type\n",
      "Параметры:\n",
      "Имя метода: ToString\n",
      "Тип возвращаемого значения: String\n",
      "Параметры:\n",
      "Имя метода: Equals\n",
      "Тип возвращаемого значения: Boolean\n",
      "Параметры:\n",
      "Имя: obj, Тип: Object\n",
      "Имя метода: GetHashCode\n",
      "Тип возвращаемого значения: Int32\n",
      "Параметры:\n",
      "\n"
     ]
    }
   ],
   "source": [
    "using System.Reflection;\n",
    "\n",
    "Assembly assembly = Assembly.GetExecutingAssembly();\n",
    "//Assembly assembly = Assembly.LoadFrom(\"core.dll\");\n",
    "Type[] types = assembly.GetTypes();\n",
    "\n",
    "ExtractAssemblyInfo(assembly);"
   ]
  },
  {
   "cell_type": "code",
   "execution_count": 31,
   "metadata": {
    "dotnet_interactive": {
     "language": "csharp"
    },
    "polyglot_notebook": {
     "kernelName": "csharp"
    }
   },
   "outputs": [],
   "source": [
    "using System.Reflection;\n",
    "static void ExtractAssemblyInfo(Assembly assembly)\n",
    "    {\n",
    "        Type[] types = assembly.GetTypes();\n",
    "\n",
    "        foreach (Type type in types)\n",
    "        {\n",
    "            Console.WriteLine($\"Тип: {type.Name}\");\n",
    "            Console.WriteLine(\"Методы:\");\n",
    "\n",
    "            MethodInfo[] methods = type.GetMethods();//получение публичных методов\n",
    "\n",
    "            foreach (MethodInfo method in methods)\n",
    "            {\n",
    "                Console.WriteLine($\"Имя метода: {method.Name}\");\n",
    "                Console.WriteLine($\"Тип возвращаемого значения: {method.ReturnType.Name}\");\n",
    "\n",
    "                ParameterInfo[] parameters = method.GetParameters();\n",
    "                Console.WriteLine(\"Параметры:\");\n",
    "\n",
    "                foreach (ParameterInfo parameter in parameters)\n",
    "                {\n",
    "                    Console.WriteLine($\"Имя: {parameter.Name}, Тип: {parameter.ParameterType.Name}\");\n",
    "                }\n",
    "            }\n",
    "            Console.WriteLine();\n",
    "        }\n",
    "    }"
   ]
  }
 ],
 "metadata": {
  "kernelspec": {
   "display_name": ".NET (C#)",
   "language": "C#",
   "name": ".net-csharp"
  },
  "language_info": {
   "name": "polyglot-notebook"
  },
  "polyglot_notebook": {
   "kernelInfo": {
    "defaultKernelName": "csharp",
    "items": [
     {
      "aliases": [],
      "languageName": "csharp",
      "name": "csharp"
     }
    ]
   }
  }
 },
 "nbformat": 4,
 "nbformat_minor": 2
}
